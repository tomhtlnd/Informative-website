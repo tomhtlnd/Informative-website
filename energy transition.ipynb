{
 "cells": [
  {
   "cell_type": "code",
   "execution_count": null,
   "metadata": {},
   "outputs": [],
   "source": [
    "import pandas as pd\n",
    "import seaborn as sns\n",
    "import matplotlib.pyplot as plt\n",
    "import numpy as np\n",
    "import re\n",
    "import plotly.express as px\n",
    "import plotly.graph_objects as go\n",
    "import chart_studio.plotly\n",
    "chart_studio.tools.set_credentials_file(username='tom.hd', api_key='ofaW3SZfg0TMqQ6oiVVN')\n",
    "chart_studio.tools.set_config_file(world_readable=True, sharing='public')\n",
    "import chart_studio.plotly as py"
   ]
  },
  {
   "cell_type": "code",
   "execution_count": null,
   "metadata": {},
   "outputs": [],
   "source": [
    "df_energy = pd.read_csv('data/Energy_Transition.csv')\n",
    "df_energy.head()"
   ]
  },
  {
   "cell_type": "code",
   "execution_count": null,
   "metadata": {},
   "outputs": [],
   "source": [
    "df_energy = df_energy.drop(['ObjectId', 'ISO3', 'Unit','Source', 'CTS_Name', 'CTS_Code', 'CTS_Full_Descriptor'], axis=1)\n",
    "df_energy.rename({'Energy_Type': 'Energy Type'}, axis=1, inplace=True)\n",
    "df_energy['Technology'].replace({'Hydropower (excl. Pumped Storage)': 'Hydropower', \"Other non-renewable energy\": \"Other non-renewable\"}, inplace=True)\n",
    "df_energy['Country'].replace({'China, P.R.: Mainland': 'China', 'Korea, Rep. of': 'Korea', 'Russian Federation': 'Russia' }, inplace=True)\n",
    "\n",
    "# regular expressions to format the years column names and units\n",
    "for col in df_energy.columns:\n",
    "    if re.match(r'F\\d{4}', col):\n",
    "        new_col = re.sub(r'F(\\d{4})', r'\\1', col)\n",
    "        df_energy.rename(columns={col: new_col}, inplace=True)\n",
    "\n",
    "df_energy.head()"
   ]
  },
  {
   "cell_type": "code",
   "execution_count": null,
   "metadata": {},
   "outputs": [],
   "source": [
    "# checking for duplicates\n",
    "print(df_energy.shape)\n",
    "df_energy = df_energy.drop_duplicates()\n",
    "print(df_energy.shape)"
   ]
  },
  {
   "cell_type": "code",
   "execution_count": null,
   "metadata": {},
   "outputs": [],
   "source": [
    "# checking for duplicates in the subset of columns\n",
    "df_energy.head()\n",
    "duplicated = df_energy.duplicated(subset=['Country', 'Indicator', 'Technology', 'Energy Type'], keep=False)\n",
    "df_energy[duplicated]"
   ]
  },
  {
   "cell_type": "code",
   "execution_count": null,
   "metadata": {},
   "outputs": [],
   "source": [
    "# clustering minor energy types in renewable and non-renewable\n",
    "df_energy['Technology'].replace({\"Pumped storage\": \"Other non-renewable\", \"Marine energy\": \"Other renewable\", \"Geothermal energy\": \"Other renewable\"}, inplace=True)"
   ]
  },
  {
   "cell_type": "code",
   "execution_count": null,
   "metadata": {},
   "outputs": [],
   "source": [
    "df_gen = df_energy[df_energy['Indicator'] == 'Electricity Generation']\n",
    "df_cap = df_energy[df_energy['Indicator'] == 'Electricity Installed Capacity']\n",
    "df_world_gen = df_energy[(df_energy['Country'] == 'World') & (df_energy['Indicator'] == 'Electricity Generation')]\n",
    "df_world_cap = df_energy[(df_energy['Country'] == 'World') & (df_energy['Indicator'] == 'Electricity Installed Capacity')]\n",
    "\n",
    "# setting common colors\n",
    "color_discrete_map={\n",
    "                \"Fossil fuels\": px.colors.qualitative.Prism[10],\n",
    "                \"Hydropower\": px.colors.qualitative.Prism[1],\n",
    "                \"Nuclear\": px.colors.qualitative.Prism[7],\n",
    "                \"Wind energy\": px.colors.qualitative.Prism[2],\n",
    "                \"Solar energy\": px.colors.qualitative.Prism[5],\n",
    "                \"Other renewable\": px.colors.qualitative.Prism[3],\n",
    "                \"Bioenergy\": px.colors.qualitative.Prism[4],\n",
    "                \"Other non-renewable\": px.colors.qualitative.Prism[0],\n",
    "                }"
   ]
  },
  {
   "cell_type": "code",
   "execution_count": null,
   "metadata": {},
   "outputs": [],
   "source": [
    "# checking for missing data\n",
    "missing_percentages = df_world_gen.isna().mean() * 100\n",
    "\n",
    "print(missing_percentages)"
   ]
  },
  {
   "cell_type": "code",
   "execution_count": null,
   "metadata": {},
   "outputs": [],
   "source": [
    "# checking for missing data\n",
    "missing_percentages = df_world_cap.isna().mean() * 100\n",
    "\n",
    "print(missing_percentages)"
   ]
  },
  {
   "cell_type": "code",
   "execution_count": null,
   "metadata": {},
   "outputs": [],
   "source": [
    "# Renewable vs. Non-renewable energy generation\n",
    "df_world_gtype = df_world_gen.groupby(['Energy Type']).sum()\n",
    "df_world_gtype.reset_index(inplace=True)\n",
    "\n",
    "df_world_gtype = pd.melt(df_world_gtype, id_vars=['Energy Type'], var_name='Year', value_name='Energy generation (GWH)')\n",
    "\n",
    "#Renweable vs. Non-renewable energy capacity\n",
    "df_world_ctype = df_world_cap.groupby(['Energy Type']).sum()\n",
    "df_world_ctype.reset_index(inplace=True)\n",
    "\n",
    "df_world_ctype = pd.melt(df_world_ctype, id_vars=['Energy Type'], var_name='Year', value_name='Energy capacity (MW)')"
   ]
  },
  {
   "cell_type": "code",
   "execution_count": null,
   "metadata": {},
   "outputs": [],
   "source": [
    "# calculating the percentage of renewable energy generation\n",
    "numbers = df_world_gtype[df_world_gtype['Year'] == '2020']\n",
    "total = numbers['Energy generation (GWH)'].sum()\n",
    "\n",
    "print(numbers[numbers['Energy Type'] == 'Total Renewable']['Energy generation (GWH)'].values[0] / total * 100)\n",
    "print(numbers[numbers['Energy Type'] == 'Total Non-Renewable']['Energy generation (GWH)'].values[0] / total * 100)"
   ]
  },
  {
   "cell_type": "code",
   "execution_count": null,
   "metadata": {},
   "outputs": [],
   "source": [
    "# formatting the data for the stacked bar chart\n",
    "df_wide = df_world_gtype.pivot(index='Year', columns='Energy Type', values='Energy generation (GWH)')\n",
    "df_wide.reset_index(inplace=True)\n",
    "df_wide.head()"
   ]
  },
  {
   "cell_type": "code",
   "execution_count": null,
   "metadata": {},
   "outputs": [],
   "source": [
    "fig = go.Figure()\n",
    "\n",
    "fig.add_trace(go.Scatter(\n",
    "        x= df_wide['Year'], y = df_wide['Total Renewable'], \n",
    "        name = 'Total Renewable',\n",
    "        mode = 'lines',\n",
    "        line = dict(color = px.colors.qualitative.Prism[3]),\n",
    "        fill = 'tozeroy'))\n",
    "fig.add_trace(go.Scatter(\n",
    "        x= df_wide['Year'], y = df_wide['Total Non-Renewable'],\n",
    "        name = 'Total Non-Renewable',\n",
    "        line=dict(color= px.colors.qualitative.Prism[7]),\n",
    "        mode = 'lines',\n",
    "        fill = 'tonexty'))\n",
    "fig.update_layout(\n",
    "        title = \"Renewable vs. Non-renewable energy generation\", \n",
    "        width = 800, height = 600,\n",
    "        #legend_title_text = 'Energy Type',\n",
    "        )\n",
    "fig.update_xaxes(\n",
    "     title_text = 'Year',\n",
    "     tickmode = 'linear',\n",
    "     dtick = 2)\n",
    "fig.update_yaxes(\n",
    "     title_text = \"Energy generation (GWH)\")\n",
    "\n",
    "fig.show()\n",
    "py.plot(fig, filename = 'Renewable vs Non-Renewable generation', auto_open=False)"
   ]
  },
  {
   "cell_type": "code",
   "execution_count": null,
   "metadata": {},
   "outputs": [],
   "source": [
    "# grouping the wold energy generaton by technology\n",
    "world_tech_gen = df_world_gen.groupby(['Technology']).sum()\n",
    "world_tech_gen.reset_index(inplace=True)\n",
    "world_tech_gen = pd.melt(world_tech_gen, id_vars=['Technology'], var_name='Year', value_name='Energy generation (GWH)')\n",
    "world_tech_gen.head()"
   ]
  },
  {
   "cell_type": "code",
   "execution_count": null,
   "metadata": {},
   "outputs": [],
   "source": [
    "fig = px.line(world_tech_gen, \n",
    "              x='Year', \n",
    "              y='Energy generation (GWH)',  \n",
    "              title='Global energy generation by technology',\n",
    "              color='Technology',\n",
    "              color_discrete_map=color_discrete_map,\n",
    "              category_orders={'Technology': world_tech_gen.sort_values('Energy generation (GWH)', ascending=False)['Technology']},\n",
    "              height=600,width=800)\n",
    "fig.update_layout(\n",
    "    xaxis = dict(\n",
    "        tickmode = 'linear',\n",
    "        dtick = 2\n",
    "    )\n",
    ")\n",
    "fig.show()\n",
    "py.plot(fig, filename = 'Global energy generation by technology', auto_open=False)"
   ]
  },
  {
   "cell_type": "code",
   "execution_count": null,
   "metadata": {},
   "outputs": [],
   "source": [
    "# grouping the wold energy capacity by technology\n",
    "world_tech_cap = df_world_cap.groupby(['Technology']).sum()\n",
    "world_tech_cap.reset_index(inplace=True)\n",
    "world_tech_cap = pd.melt(world_tech_cap, id_vars=['Technology'], var_name='Year', value_name='Energy capacity (MW)')"
   ]
  },
  {
   "cell_type": "code",
   "execution_count": null,
   "metadata": {},
   "outputs": [],
   "source": [
    "fig = px.line(world_tech_cap, \n",
    "              x='Year', \n",
    "              y='Energy capacity (MW)',  \n",
    "              title='Global energy capacity by technology',\n",
    "              color='Technology',\n",
    "              color_discrete_map=color_discrete_map,\n",
    "              category_orders={'Technology': world_tech_cap.sort_values('Energy capacity (MW)', ascending=False)['Technology']},\n",
    "              height=600,width=800)\n",
    "fig.update_layout(\n",
    "    xaxis = dict(\n",
    "        tickmode = 'linear',\n",
    "        dtick = 2\n",
    "    )\n",
    ")\n",
    "fig.show()\n",
    "py.plot(fig, filename = 'Global capacity generation by technology', auto_open=False)"
   ]
  },
  {
   "cell_type": "code",
   "execution_count": null,
   "metadata": {},
   "outputs": [],
   "source": [
    "# taking the most recent data as no values are missing\n",
    "world_tech_cap20 = world_tech_cap[world_tech_cap['Year'] == '2020']\n",
    "\n",
    "fig = px.bar(world_tech_cap20, \n",
    "              x='Energy capacity (MW)', \n",
    "              y='Technology',\n",
    "              title='Global energy capacity in 2020',\n",
    "              orientation='h',\n",
    "              height=600,width=800,\n",
    "              color='Technology',\n",
    "              color_discrete_map=color_discrete_map,\n",
    "              category_orders={'Technology': world_tech_cap20.sort_values('Energy capacity (MW)', ascending=False)['Technology']})\n",
    "\n",
    "fig.show()\n",
    "py.plot(fig, filename = 'Global energy capacity in 2020', auto_open=False)"
   ]
  },
  {
   "cell_type": "code",
   "execution_count": null,
   "metadata": {},
   "outputs": [],
   "source": [
    "# filtering for countries\n",
    "df_countries = df_energy.dropna(subset=['ISO2'])\n",
    "df_countries = df_countries[df_countries['Indicator'] == 'Electricity Generation']\n",
    "\n",
    "# filtering for the top 10 countries by generation in 2020\n",
    "country_gen = df_countries.groupby('Country').sum()['2020']\n",
    "country_gen = country_gen.sort_values(ascending=False)\n",
    "country_gen = country_gen.reset_index()\n",
    "top_10_gen = country_gen.iloc[:10]\n",
    "\n",
    "# creating dataframe with energy generation by country and technology\n",
    "df_top_10 = df_countries[df_countries['Country'].isin(top_10_gen['Country'].tolist())]\n",
    "\n",
    "# checking for missing data\n",
    "missing_percentages = df_top_10.isna().mean() * 100\n",
    "print(missing_percentages)"
   ]
  },
  {
   "cell_type": "code",
   "execution_count": null,
   "metadata": {},
   "outputs": [],
   "source": [
    "df_top_10 = df_top_10.groupby(['Country', 'Technology']).sum()['2020']\n",
    "df_top_10 = df_top_10.reset_index()\n",
    "df_top_10.sort_values('2020', ascending=False, inplace=True)\n",
    "df_top_10.head()"
   ]
  },
  {
   "cell_type": "code",
   "execution_count": null,
   "metadata": {},
   "outputs": [],
   "source": [
    "# dataframe to sort the the bar chart by total generation descending\n",
    "top10_sum = df_top_10.groupby('Country').sum()\n",
    "top10_sum = top10_sum.reset_index()\n",
    "top10_sum.sort_values('2020', ascending=False, inplace=True)"
   ]
  },
  {
   "cell_type": "code",
   "execution_count": null,
   "metadata": {},
   "outputs": [],
   "source": [
    "fig = px.bar(df_top_10, \n",
    "              x='Country', \n",
    "              y='2020',\n",
    "              title='Top 10 energy generators in 2020',\n",
    "              orientation='v',\n",
    "              barmode='stack',\n",
    "              height=600,width=900,\n",
    "              color='Technology',\n",
    "              color_discrete_map= color_discrete_map,\n",
    "              category_orders={'Country': top10_sum['Country'].tolist()})\n",
    "              \n",
    "fig.update_yaxes(\n",
    "        title_text = \"Energy generation (GWH)\"\n",
    ")          \n",
    "fig.show()\n",
    "py.plot(fig, filename = 'Top 10 energy generators', auto_open=False)"
   ]
  },
  {
   "cell_type": "code",
   "execution_count": null,
   "metadata": {},
   "outputs": [],
   "source": [
    "# grouping energy generation by country and technology\n",
    "df_gtype = df_gen.groupby(['Country', 'Technology']).sum()\n",
    "df_gtype.reset_index(inplace=True)\n",
    "df_gtype = pd.melt(df_gtype, id_vars=['Country', 'Technology'], var_name='Year', value_name='Energy generation (GWH)')\n",
    "df_gtype.head()"
   ]
  },
  {
   "cell_type": "code",
   "execution_count": null,
   "metadata": {},
   "outputs": [],
   "source": [
    "# grouping energy capacity by country and technology\n",
    "df_ctype = df_cap.groupby(['Country', 'Technology']).sum()\n",
    "df_ctype.reset_index(inplace=True)\n",
    "df_ctype = pd.melt(df_ctype, id_vars=['Country', 'Technology'], var_name='Year', value_name='Energy capacity (MW)')"
   ]
  },
  {
   "cell_type": "code",
   "execution_count": null,
   "metadata": {},
   "outputs": [],
   "source": [
    "fig = px.line(df_ctype[df_ctype['Country'] == 'China'], \n",
    "              x='Year', \n",
    "              y='Energy capacity (MW)',  \n",
    "              title='China\\'s energy mix',\n",
    "              color='Technology',\n",
    "              color_discrete_map=color_discrete_map,\n",
    "              height=500,width=700,\n",
    "              category_orders={'Technology': df_ctype[df_ctype['Country'] == 'China'].sort_values('Energy capacity (MW)', ascending=False)['Technology']}\n",
    "              )\n",
    "\n",
    "fig.update_layout(\n",
    "    xaxis = dict(\n",
    "        tickmode = 'linear',\n",
    "        dtick = 2\n",
    "    )\n",
    ")\n",
    "fig.show()\n",
    "py.plot(fig, filename = 'China Energy Mix', auto_open=False)"
   ]
  },
  {
   "cell_type": "code",
   "execution_count": null,
   "metadata": {},
   "outputs": [],
   "source": [
    "fig = px.line(df_ctype[df_ctype['Country'] == 'United States'], \n",
    "              x='Year', \n",
    "              y='Energy capacity (MW)',  \n",
    "              title='US energy mix',\n",
    "              color='Technology',\n",
    "              color_discrete_map=color_discrete_map,\n",
    "              height=500,width=700,\n",
    "              category_orders={'Technology': df_ctype[df_ctype['Country'] == 'Unites States'].sort_values('Energy capacity (MW)', ascending=False)['Technology']}\n",
    "              )\n",
    "\n",
    "fig.update_layout(\n",
    "    xaxis = dict(\n",
    "        tickmode = 'linear',\n",
    "        dtick = 2\n",
    "    )\n",
    ")\n",
    "fig.show()\n",
    "py.plot(fig, filename = 'US Energy Mix', auto_open=False)"
   ]
  },
  {
   "cell_type": "code",
   "execution_count": null,
   "metadata": {},
   "outputs": [],
   "source": [
    "fig = px.line(df_ctype[df_ctype['Country'] == 'India'], \n",
    "              x='Year', \n",
    "              y='Energy capacity (MW)',  \n",
    "              title='India\\'s energy mix',\n",
    "              color='Technology',\n",
    "              color_discrete_map=color_discrete_map,\n",
    "              height=500,width=700,\n",
    "              category_orders={'Technology': df_ctype[df_ctype['Country'] == 'India'].sort_values('Energy capacity (MW)', ascending=False)['Technology']}\n",
    "              )\n",
    "\n",
    "fig.update_layout(\n",
    "    xaxis = dict(\n",
    "        tickmode = 'linear',\n",
    "        dtick = 2\n",
    "    )\n",
    ")\n",
    "fig.show()\n",
    "py.plot(fig, filename = 'India Energy Mix', auto_open=False)"
   ]
  },
  {
   "cell_type": "code",
   "execution_count": null,
   "metadata": {},
   "outputs": [],
   "source": [
    "fig = px.line(df_ctype[df_ctype['Country'] == 'Russia'], \n",
    "              x='Year', \n",
    "              y='Energy capacity (MW)',  \n",
    "              title='Russia\\'s energy mix',\n",
    "              color='Technology',\n",
    "              color_discrete_map=color_discrete_map,\n",
    "              height=500,width=700,\n",
    "              category_orders={'Technology': df_ctype[df_ctype['Country'] == 'Russia'].sort_values('Energy capacity (MW)', ascending=False)['Technology']}\n",
    "              )\n",
    "\n",
    "fig.update_layout(\n",
    "    xaxis = dict(\n",
    "        tickmode = 'linear',\n",
    "        dtick = 2\n",
    "    )\n",
    ")\n",
    "fig.show()\n",
    "py.plot(fig, filename = 'Russia Energy Mix', auto_open=False)"
   ]
  },
  {
   "cell_type": "code",
   "execution_count": null,
   "metadata": {},
   "outputs": [],
   "source": [
    "# filtering for renewable energy capacity and grouping by technology\n",
    "df_ren_cap = df_world_cap[df_world_cap['Energy Type'] == 'Total Renewable']\n",
    "df_ren_cap = df_ren_cap.groupby(['Technology']).sum()\n",
    "df_ren_cap.reset_index(inplace=True)\n",
    "df_ren_cap = pd.melt(df_ren_cap, id_vars=['Technology'], var_name='Year', value_name='Energy capacity (MW)')\n",
    "df_ren_cap.head()"
   ]
  },
  {
   "cell_type": "code",
   "execution_count": null,
   "metadata": {},
   "outputs": [],
   "source": [
    "# formatting the data for the stacked bar chart\n",
    "df_wide = df_ren_cap.pivot(index='Year', columns='Technology', values='Energy capacity (MW)')\n",
    "df_wide.reset_index(inplace=True)"
   ]
  },
  {
   "cell_type": "code",
   "execution_count": null,
   "metadata": {},
   "outputs": [],
   "source": [
    "fig = go.Figure()\n",
    "\n",
    "fig.add_trace(go.Scatter(\n",
    "        x= df_wide['Year'], y = df_wide['Other renewable'],\n",
    "        name = 'Other renewable',\n",
    "        mode = 'lines',\n",
    "        line = dict(color = px.colors.qualitative.Prism[3]),\n",
    "        fill = 'tonexty'))\n",
    "fig.add_trace(go.Scatter(\n",
    "        x= df_wide['Year'], y = df_wide['Bioenergy'],\n",
    "        name = 'Bioenergy',\n",
    "        mode = 'lines',\n",
    "        line = dict(color = px.colors.qualitative.Prism[4]),\n",
    "        fill = 'tonexty'))\n",
    "fig.add_trace(go.Scatter(\n",
    "        x= df_wide['Year'], y = df_wide['Solar energy'], \n",
    "        name = 'Solar energy',\n",
    "        mode = 'lines',\n",
    "        line = dict(color = px.colors.qualitative.Prism[5]),\n",
    "        fill = 'tonexty'))\n",
    "fig.add_trace(go.Scatter(\n",
    "        x= df_wide['Year'], y = df_wide['Wind energy'], \n",
    "        name = 'Wind energy',\n",
    "        mode = 'lines',\n",
    "        line = dict(color = px.colors.qualitative.Prism[2]),\n",
    "        fill = 'tonexty'))\n",
    "fig.add_trace(go.Scatter(\n",
    "        x= df_wide['Year'], y = df_wide['Hydropower'], \n",
    "        name = 'Hydropower',\n",
    "        mode = 'lines',\n",
    "        line = dict(color = px.colors.qualitative.Prism[1]),\n",
    "        fill = 'tonexty'))\n",
    "fig.update_layout(\n",
    "        title = \"Global renweable energy trend\", \n",
    "        width = 800, height = 600)\n",
    "fig.update_xaxes(\n",
    "     title_text = 'Year',\n",
    "     tickmode = 'linear',\n",
    "     dtick = 2)\n",
    "fig.update_yaxes(\n",
    "     title_text = \"Energy capacity (MW)\")\n",
    "\n",
    "fig.show()\n",
    "py.plot(fig, filename = 'Renweable energy capacity trend', auto_open=False)"
   ]
  },
  {
   "cell_type": "code",
   "execution_count": null,
   "metadata": {},
   "outputs": [],
   "source": [
    "# fossil fuel share by country\n",
    "df_fossil = df_countries\n",
    "df_sum = df_fossil.groupby(['Country'])['2020'].sum().reset_index()\n",
    "df_sum.rename(columns={'2020': 'Total'}, inplace=True)\n",
    "\n",
    "df_fossil = df_fossil[df_fossil['Technology'] == 'Fossil fuels']\n",
    "cols_to_drop = [col for col in df_fossil.columns if col not in ['Country', '2020']]\n",
    "df_fossil = df_fossil.drop(cols_to_drop, axis=1)\n",
    "df_fossil.rename(columns={'2020': 'Fossil fuels'}, inplace=True)\n",
    "\n",
    "df_share = pd.merge(df_fossil, df_sum, on='Country')\n",
    "df_share['Share'] = df_share['Fossil fuels'] / df_share['Total'] * 100\n",
    "df_share.drop(['Fossil fuels', 'Total'], axis=1, inplace=True)\n",
    "\n",
    "df_share.head()"
   ]
  },
  {
   "cell_type": "code",
   "execution_count": null,
   "metadata": {},
   "outputs": [],
   "source": [
    "fig = px.choropleth(df_share,   \n",
    "            locations='Country',\n",
    "            locationmode='country names',\n",
    "            color='Share',\n",
    "            title='Fossil fuel share across the world',\n",
    "            color_continuous_scale=\"Reds\",\n",
    "            scope='world',\n",
    "            fitbounds='locations',\n",
    "            height=600,\n",
    "            width=1000)\n",
    "fig.update_layout(\n",
    "\n",
    "    geo=dict(\n",
    "        showframe=False,\n",
    "        showcoastlines=False,\n",
    "        projection_type='equirectangular'\n",
    "        \n",
    "    )\n",
    ")\n",
    "\n",
    "fig.show()\n",
    "py.plot(fig, filename = 'Fossil fuel share across the world', auto_open=False)"
   ]
  },
  {
   "cell_type": "code",
   "execution_count": null,
   "metadata": {},
   "outputs": [],
   "source": [
    "df_fs = pd.read_csv('data/fossil_fuel_support.csv')\n",
    "df_fs.head()"
   ]
  },
  {
   "cell_type": "code",
   "execution_count": null,
   "metadata": {},
   "outputs": [],
   "source": [
    "df_fs = df_fs[(df_fs['Support Mechanism'] == 'Total') & (df_fs['Beneficiary or Sector'] == 'Total')]\n",
    "df_fs = df_fs.drop(['COUNTRY', 'MECHANISM', 'INDIC_OR_SEC', 'Beneficiary or Sector', 'PROD', 'MEASURE', 'YEAR', 'Flag Codes', 'Flags'], axis=1)\n",
    "df_fs['Country'].replace({'China (People\\'s Republic of)': 'China'}, inplace=True)"
   ]
  },
  {
   "cell_type": "code",
   "execution_count": null,
   "metadata": {},
   "outputs": [],
   "source": [
    "# checking for duplicates\n",
    "print(df_fs.shape)\n",
    "df_fs = df_fs.drop_duplicates()\n",
    "print(df_fs.shape)"
   ]
  },
  {
   "cell_type": "code",
   "execution_count": null,
   "metadata": {},
   "outputs": [],
   "source": [
    "# checking for duplicated in the subset\n",
    "df_fs.head()\n",
    "duplicated = df_fs.duplicated(subset=['Country', 'Support Mechanism', 'Fuel Type', 'Unit', 'Year'], keep=False)\n",
    "df_fs[duplicated]"
   ]
  },
  {
   "cell_type": "code",
   "execution_count": null,
   "metadata": {},
   "outputs": [],
   "source": [
    "g20 = df_fs[df_fs['Country'] == 'G20 and EaP partner economies']\n",
    "g20"
   ]
  },
  {
   "cell_type": "code",
   "execution_count": null,
   "metadata": {},
   "outputs": [],
   "source": [
    "# checking for missing values\n",
    "g20 = g20.replace(0, np.nan)\n",
    "missing_percentages = g20.isna().mean() * 100\n",
    "print(missing_percentages)"
   ]
  },
  {
   "cell_type": "code",
   "execution_count": null,
   "metadata": {},
   "outputs": [],
   "source": [
    "g20_dollar = g20[(g20['Unit'] == 'US Dollars (nominal) [in millions]') & (g20['Fuel Type'] != 'Total')]\n",
    "g20_dollar = g20_dollar.groupby(['Year', 'Fuel Type'])['Value'].sum()\n",
    "g20_dollar = g20_dollar.reset_index()\n",
    "g20_dollar.head()"
   ]
  },
  {
   "cell_type": "code",
   "execution_count": null,
   "metadata": {},
   "outputs": [],
   "source": [
    "fig = px.bar(g20_dollar, \n",
    "              x='Year', \n",
    "              y='Value',  \n",
    "              title='Fossil fuel support of G20',\n",
    "              color='Fuel Type',\n",
    "              height=600,width=800,\n",
    "              category_orders={'Fuel Type': g20_dollar.sort_values('Value', ascending=False)['Fuel Type'].unique()},\n",
    "              color_discrete_map={'Petroleum': px.colors.qualitative.Prism[6], 'End-use electricity': px.colors.qualitative.Prism[2], 'Natural gas': px.colors.qualitative.Prism[1], 'Coal': 'black'})\n",
    "fig.update_layout(\n",
    "    xaxis = dict(\n",
    "        tickmode = 'linear',\n",
    "        dtick = 1\n",
    "    )\n",
    ")\n",
    "\n",
    "fig.update_yaxes(\n",
    "        title_text = \"US Dollars (nominal) [in millions]\"\n",
    ")     \n",
    "fig.show()\n",
    "py.plot(fig, filename = 'Fossil fuel support by country', auto_open=False)"
   ]
  }
 ],
 "metadata": {
  "kernelspec": {
   "display_name": "base",
   "language": "python",
   "name": "python3"
  },
  "language_info": {
   "codemirror_mode": {
    "name": "ipython",
    "version": 3
   },
   "file_extension": ".py",
   "mimetype": "text/x-python",
   "name": "python",
   "nbconvert_exporter": "python",
   "pygments_lexer": "ipython3",
   "version": "3.9.12"
  },
  "orig_nbformat": 4
 },
 "nbformat": 4,
 "nbformat_minor": 2
}
